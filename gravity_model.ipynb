{
 "cells": [
  {
   "cell_type": "code",
   "execution_count": 1,
   "id": "57f507b0",
   "metadata": {},
   "outputs": [],
   "source": [
    "import pandas as pd\n",
    "import numpy as np \n",
    "import matplotlib as plt\n",
    "import statsmodels.api as sm"
   ]
  },
  {
   "cell_type": "code",
   "execution_count": 2,
   "id": "5c489ead",
   "metadata": {},
   "outputs": [],
   "source": [
    "data = pd.read_excel('https://www.dropbox.com/s/19acuzv2yrwpoun/servicesdataset%202.xlsx?dl=1', engine = 'openpyxl')"
   ]
  },
  {
   "cell_type": "markdown",
   "id": "4f39c38d",
   "metadata": {},
   "source": [
    "# Data Exploring"
   ]
  },
  {
   "cell_type": "code",
   "execution_count": 7,
   "id": "1fcc6630",
   "metadata": {
    "scrolled": true
   },
   "outputs": [
    {
     "data": {
      "text/plain": [
       "array([2005])"
      ]
     },
     "execution_count": 7,
     "metadata": {},
     "output_type": "execute_result"
    }
   ],
   "source": [
    "data.year.unique()"
   ]
  },
  {
   "cell_type": "markdown",
   "id": "9a798cb4",
   "metadata": {},
   "source": [
    "## Micro Model: Austria, SER"
   ]
  },
  {
   "cell_type": "markdown",
   "id": "f4d0daa9",
   "metadata": {},
   "source": [
    "https://www.datarobot.com/blog/multiple-regression-using-statsmodels/\n",
    "\n",
    "basic: gdp and distance"
   ]
  },
  {
   "cell_type": "code",
   "execution_count": 48,
   "id": "c678dbac",
   "metadata": {},
   "outputs": [],
   "source": [
    "AUT_SER = data[(data.exp == 'AUT') & (data.trade != 0) & (data.sector == 'SER')].copy()"
   ]
  },
  {
   "cell_type": "code",
   "execution_count": 49,
   "id": "889f304b",
   "metadata": {
    "scrolled": true
   },
   "outputs": [],
   "source": [
    "AUT_SER = AUT_SER.dropna(subset=['gdp_imp', 'dist', 'trade'])\n",
    "AUT_SER['log_trade'] = np.log(AUT_SER['trade'])\n",
    "AUT_SER['log_dist'] = np.log(AUT_SER['dist'])\n",
    "AUT_SER['log_gdp_imp'] = np.log(AUT_SER['gdp_imp'])"
   ]
  },
  {
   "cell_type": "code",
   "execution_count": 50,
   "id": "df6c6078",
   "metadata": {},
   "outputs": [],
   "source": [
    "AUT_SER_X = AUT_SER[['log_gdp_imp', 'log_dist']]\n",
    "AUT_SER_Y = AUT_SER[['log_trade']]\n",
    "AUT_SER_X = sm.add_constant(AUT_SER_X)"
   ]
  },
  {
   "cell_type": "code",
   "execution_count": 51,
   "id": "17176c4c",
   "metadata": {},
   "outputs": [
    {
     "data": {
      "text/html": [
       "<table class=\"simpletable\">\n",
       "<caption>OLS Regression Results</caption>\n",
       "<tr>\n",
       "  <th>Dep. Variable:</th>        <td>log_trade</td>    <th>  R-squared:         </th> <td>   0.608</td>\n",
       "</tr>\n",
       "<tr>\n",
       "  <th>Model:</th>                   <td>OLS</td>       <th>  Adj. R-squared:    </th> <td>   0.601</td>\n",
       "</tr>\n",
       "<tr>\n",
       "  <th>Method:</th>             <td>Least Squares</td>  <th>  F-statistic:       </th> <td>   88.23</td>\n",
       "</tr>\n",
       "<tr>\n",
       "  <th>Date:</th>             <td>Tue, 21 Feb 2023</td> <th>  Prob (F-statistic):</th> <td>7.04e-24</td>\n",
       "</tr>\n",
       "<tr>\n",
       "  <th>Time:</th>                 <td>13:28:23</td>     <th>  Log-Likelihood:    </th> <td> -187.61</td>\n",
       "</tr>\n",
       "<tr>\n",
       "  <th>No. Observations:</th>      <td>   117</td>      <th>  AIC:               </th> <td>   381.2</td>\n",
       "</tr>\n",
       "<tr>\n",
       "  <th>Df Residuals:</th>          <td>   114</td>      <th>  BIC:               </th> <td>   389.5</td>\n",
       "</tr>\n",
       "<tr>\n",
       "  <th>Df Model:</th>              <td>     2</td>      <th>                     </th>     <td> </td>   \n",
       "</tr>\n",
       "<tr>\n",
       "  <th>Covariance Type:</th>      <td>nonrobust</td>    <th>                     </th>     <td> </td>   \n",
       "</tr>\n",
       "</table>\n",
       "<table class=\"simpletable\">\n",
       "<tr>\n",
       "       <td></td>          <th>coef</th>     <th>std err</th>      <th>t</th>      <th>P>|t|</th>  <th>[0.025</th>    <th>0.975]</th>  \n",
       "</tr>\n",
       "<tr>\n",
       "  <th>const</th>       <td>   -0.7818</td> <td>    1.640</td> <td>   -0.477</td> <td> 0.635</td> <td>   -4.031</td> <td>    2.467</td>\n",
       "</tr>\n",
       "<tr>\n",
       "  <th>log_gdp_imp</th> <td>    0.4487</td> <td>    0.054</td> <td>    8.307</td> <td> 0.000</td> <td>    0.342</td> <td>    0.556</td>\n",
       "</tr>\n",
       "<tr>\n",
       "  <th>log_dist</th>    <td>   -0.9423</td> <td>    0.102</td> <td>   -9.226</td> <td> 0.000</td> <td>   -1.145</td> <td>   -0.740</td>\n",
       "</tr>\n",
       "</table>\n",
       "<table class=\"simpletable\">\n",
       "<tr>\n",
       "  <th>Omnibus:</th>       <td> 2.734</td> <th>  Durbin-Watson:     </th> <td>   2.263</td>\n",
       "</tr>\n",
       "<tr>\n",
       "  <th>Prob(Omnibus):</th> <td> 0.255</td> <th>  Jarque-Bera (JB):  </th> <td>   2.177</td>\n",
       "</tr>\n",
       "<tr>\n",
       "  <th>Skew:</th>          <td> 0.302</td> <th>  Prob(JB):          </th> <td>   0.337</td>\n",
       "</tr>\n",
       "<tr>\n",
       "  <th>Kurtosis:</th>      <td> 3.286</td> <th>  Cond. No.          </th> <td>    374.</td>\n",
       "</tr>\n",
       "</table><br/><br/>Notes:<br/>[1] Standard Errors assume that the covariance matrix of the errors is correctly specified."
      ],
      "text/plain": [
       "<class 'statsmodels.iolib.summary.Summary'>\n",
       "\"\"\"\n",
       "                            OLS Regression Results                            \n",
       "==============================================================================\n",
       "Dep. Variable:              log_trade   R-squared:                       0.608\n",
       "Model:                            OLS   Adj. R-squared:                  0.601\n",
       "Method:                 Least Squares   F-statistic:                     88.23\n",
       "Date:                Tue, 21 Feb 2023   Prob (F-statistic):           7.04e-24\n",
       "Time:                        13:28:23   Log-Likelihood:                -187.61\n",
       "No. Observations:                 117   AIC:                             381.2\n",
       "Df Residuals:                     114   BIC:                             389.5\n",
       "Df Model:                           2                                         \n",
       "Covariance Type:            nonrobust                                         \n",
       "===============================================================================\n",
       "                  coef    std err          t      P>|t|      [0.025      0.975]\n",
       "-------------------------------------------------------------------------------\n",
       "const          -0.7818      1.640     -0.477      0.635      -4.031       2.467\n",
       "log_gdp_imp     0.4487      0.054      8.307      0.000       0.342       0.556\n",
       "log_dist       -0.9423      0.102     -9.226      0.000      -1.145      -0.740\n",
       "==============================================================================\n",
       "Omnibus:                        2.734   Durbin-Watson:                   2.263\n",
       "Prob(Omnibus):                  0.255   Jarque-Bera (JB):                2.177\n",
       "Skew:                           0.302   Prob(JB):                        0.337\n",
       "Kurtosis:                       3.286   Cond. No.                         374.\n",
       "==============================================================================\n",
       "\n",
       "Notes:\n",
       "[1] Standard Errors assume that the covariance matrix of the errors is correctly specified.\n",
       "\"\"\""
      ]
     },
     "execution_count": 51,
     "metadata": {},
     "output_type": "execute_result"
    }
   ],
   "source": [
    "AUT_SER_MICRO = sm.OLS(AUT_SER_Y, AUT_SER_X).fit()\n",
    "AUT_SER_MICRO.summary()"
   ]
  },
  {
   "cell_type": "markdown",
   "id": "009b4e07",
   "metadata": {},
   "source": [
    "## AUT all services"
   ]
  },
  {
   "cell_type": "code",
   "execution_count": 59,
   "id": "c4d8544e",
   "metadata": {},
   "outputs": [
    {
     "data": {
      "text/plain": [
       "array(['AND', 'ANT', 'BER', 'CUB', 'CYM', 'GIB', 'IOT', 'SCG', 'SOM',\n",
       "       'TWN', 'VGB', 'YUG'], dtype=object)"
      ]
     },
     "execution_count": 59,
     "metadata": {},
     "output_type": "execute_result"
    }
   ],
   "source": [
    "AUT = data[(data.exp == 'AUT') & (data.trade != 0)].copy()\n",
    "AUT[AUT['gdp_imp'].isna()].imp.unique()"
   ]
  },
  {
   "cell_type": "code",
   "execution_count": null,
   "id": "e38b7bbc",
   "metadata": {},
   "outputs": [],
   "source": []
  },
  {
   "cell_type": "code",
   "execution_count": null,
   "id": "d73484e5",
   "metadata": {},
   "outputs": [],
   "source": []
  },
  {
   "cell_type": "code",
   "execution_count": null,
   "id": "c299911c",
   "metadata": {},
   "outputs": [],
   "source": []
  },
  {
   "cell_type": "code",
   "execution_count": null,
   "id": "807786c2",
   "metadata": {},
   "outputs": [],
   "source": []
  }
 ],
 "metadata": {
  "kernelspec": {
   "display_name": "Python 3 (ipykernel)",
   "language": "python",
   "name": "python3"
  },
  "language_info": {
   "codemirror_mode": {
    "name": "ipython",
    "version": 3
   },
   "file_extension": ".py",
   "mimetype": "text/x-python",
   "name": "python",
   "nbconvert_exporter": "python",
   "pygments_lexer": "ipython3",
   "version": "3.9.12"
  }
 },
 "nbformat": 4,
 "nbformat_minor": 5
}
